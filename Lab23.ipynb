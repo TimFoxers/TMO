{
 "cells": [
  {
   "cell_type": "markdown",
   "metadata": {},
   "source": [
    "# Лабораторная работа 2-3 Лисин РТ5-61Б"
   ]
  },
  {
   "cell_type": "code",
   "execution_count": 2,
   "metadata": {},
   "outputs": [],
   "source": [
    "import pandas as pd\n",
    "import seaborn as sns\n",
    "import matplotlib.pyplot as plt\n",
    "import numpy as np\n",
    "%matplotlib inline\n",
    "sns.set(style=\"ticks\")"
   ]
  },
  {
   "cell_type": "code",
   "execution_count": 3,
   "metadata": {},
   "outputs": [],
   "source": [
    "data = pd.read_csv('moves.csv', sep = \",\")"
   ]
  },
  {
   "cell_type": "markdown",
   "metadata": {},
   "source": [
    "Данные датасета:\n",
    "1. Имя (Name)\n",
    "2. Тип (Type)\n",
    "3. Категория (Cat.)\n",
    "4. Сила (Power)\n",
    "5. Точность (Acc.)\n",
    "6. Очки силы (сколько требуется потратить на способность)\n",
    "7. CD прокачки техники (TM)\n",
    "8. Эффект (Effect)\n",
    "9. Вероятность действия (Prob. (%))"
   ]
  },
  {
   "cell_type": "code",
   "execution_count": 4,
   "metadata": {},
   "outputs": [
    {
     "data": {
      "text/plain": [
       "Name           0\n",
       "Type           0\n",
       "Cat.           0\n",
       "Power        259\n",
       "Acc.         160\n",
       "PP             1\n",
       "TM           506\n",
       "Effect        32\n",
       "Prob. (%)    468\n",
       "dtype: int64"
      ]
     },
     "execution_count": 4,
     "metadata": {},
     "output_type": "execute_result"
    }
   ],
   "source": [
    "data.isnull().sum()"
   ]
  },
  {
   "cell_type": "code",
   "execution_count": 5,
   "metadata": {},
   "outputs": [
    {
     "data": {
      "text/plain": [
       "(607, 9)"
      ]
     },
     "execution_count": 5,
     "metadata": {},
     "output_type": "execute_result"
    }
   ],
   "source": [
    "data.shape"
   ]
  },
  {
   "cell_type": "code",
   "execution_count": 6,
   "metadata": {},
   "outputs": [
    {
     "data": {
      "text/plain": [
       "Name          object\n",
       "Type          object\n",
       "Cat.          object\n",
       "Power        float64\n",
       "Acc.          object\n",
       "PP           float64\n",
       "TM            object\n",
       "Effect        object\n",
       "Prob. (%)    float64\n",
       "dtype: object"
      ]
     },
     "execution_count": 6,
     "metadata": {},
     "output_type": "execute_result"
    }
   ],
   "source": [
    "data.dtypes"
   ]
  },
  {
   "cell_type": "code",
   "execution_count": 7,
   "metadata": {},
   "outputs": [
    {
     "data": {
      "text/html": [
       "<div>\n",
       "<style scoped>\n",
       "    .dataframe tbody tr th:only-of-type {\n",
       "        vertical-align: middle;\n",
       "    }\n",
       "\n",
       "    .dataframe tbody tr th {\n",
       "        vertical-align: top;\n",
       "    }\n",
       "\n",
       "    .dataframe thead th {\n",
       "        text-align: right;\n",
       "    }\n",
       "</style>\n",
       "<table border=\"1\" class=\"dataframe\">\n",
       "  <thead>\n",
       "    <tr style=\"text-align: right;\">\n",
       "      <th></th>\n",
       "      <th>Name</th>\n",
       "      <th>Type</th>\n",
       "      <th>Cat.</th>\n",
       "      <th>Power</th>\n",
       "      <th>Acc.</th>\n",
       "      <th>PP</th>\n",
       "      <th>TM</th>\n",
       "      <th>Effect</th>\n",
       "      <th>Prob. (%)</th>\n",
       "    </tr>\n",
       "  </thead>\n",
       "  <tbody>\n",
       "    <tr>\n",
       "      <th>0</th>\n",
       "      <td>Absorb</td>\n",
       "      <td>GRASS</td>\n",
       "      <td>Special</td>\n",
       "      <td>20.0</td>\n",
       "      <td>100</td>\n",
       "      <td>25.0</td>\n",
       "      <td>NaN</td>\n",
       "      <td>User recovers half the HP inflicted on opponent.</td>\n",
       "      <td>NaN</td>\n",
       "    </tr>\n",
       "    <tr>\n",
       "      <th>1</th>\n",
       "      <td>Acid</td>\n",
       "      <td>POISON</td>\n",
       "      <td>Special</td>\n",
       "      <td>40.0</td>\n",
       "      <td>100</td>\n",
       "      <td>30.0</td>\n",
       "      <td>NaN</td>\n",
       "      <td>May lower opponent's Special Defense.</td>\n",
       "      <td>10.0</td>\n",
       "    </tr>\n",
       "    <tr>\n",
       "      <th>2</th>\n",
       "      <td>Acid Armor</td>\n",
       "      <td>POISON</td>\n",
       "      <td>Status</td>\n",
       "      <td>NaN</td>\n",
       "      <td>NaN</td>\n",
       "      <td>40.0</td>\n",
       "      <td>NaN</td>\n",
       "      <td>Sharply raises user's Defense.</td>\n",
       "      <td>NaN</td>\n",
       "    </tr>\n",
       "    <tr>\n",
       "      <th>3</th>\n",
       "      <td>Acid Spray</td>\n",
       "      <td>POISON</td>\n",
       "      <td>Special</td>\n",
       "      <td>40.0</td>\n",
       "      <td>100</td>\n",
       "      <td>20.0</td>\n",
       "      <td>NaN</td>\n",
       "      <td>Sharply lowers opponent's Special Defense.</td>\n",
       "      <td>100.0</td>\n",
       "    </tr>\n",
       "    <tr>\n",
       "      <th>4</th>\n",
       "      <td>Acrobatics</td>\n",
       "      <td>FLYING</td>\n",
       "      <td>Physical</td>\n",
       "      <td>55.0</td>\n",
       "      <td>100</td>\n",
       "      <td>15.0</td>\n",
       "      <td>TM62</td>\n",
       "      <td>Stronger when the user does not have a held item.</td>\n",
       "      <td>NaN</td>\n",
       "    </tr>\n",
       "  </tbody>\n",
       "</table>\n",
       "</div>"
      ],
      "text/plain": [
       "         Name    Type      Cat.  Power Acc.    PP    TM  \\\n",
       "0      Absorb   GRASS   Special   20.0  100  25.0   NaN   \n",
       "1        Acid  POISON   Special   40.0  100  30.0   NaN   \n",
       "2  Acid Armor  POISON    Status    NaN  NaN  40.0   NaN   \n",
       "3  Acid Spray  POISON   Special   40.0  100  20.0   NaN   \n",
       "4  Acrobatics  FLYING  Physical   55.0  100  15.0  TM62   \n",
       "\n",
       "                                              Effect  Prob. (%)  \n",
       "0   User recovers half the HP inflicted on opponent.        NaN  \n",
       "1              May lower opponent's Special Defense.       10.0  \n",
       "2                     Sharply raises user's Defense.        NaN  \n",
       "3         Sharply lowers opponent's Special Defense.      100.0  \n",
       "4  Stronger when the user does not have a held item.        NaN  "
      ]
     },
     "execution_count": 7,
     "metadata": {},
     "output_type": "execute_result"
    }
   ],
   "source": [
    "data.head()"
   ]
  },
  {
   "cell_type": "code",
   "execution_count": 8,
   "metadata": {
    "scrolled": true
   },
   "outputs": [
    {
     "data": {
      "text/plain": [
       "Name           0\n",
       "Type           0\n",
       "Cat.           0\n",
       "Power        259\n",
       "Acc.         160\n",
       "PP             1\n",
       "TM           506\n",
       "Effect        32\n",
       "Prob. (%)    468\n",
       "dtype: int64"
      ]
     },
     "execution_count": 8,
     "metadata": {},
     "output_type": "execute_result"
    }
   ],
   "source": [
    "data.isnull().sum()"
   ]
  },
  {
   "cell_type": "markdown",
   "metadata": {},
   "source": [
    "## Преобразуем датасет к рабочему виду"
   ]
  },
  {
   "cell_type": "code",
   "execution_count": 9,
   "metadata": {},
   "outputs": [
    {
     "name": "stderr",
     "output_type": "stream",
     "text": [
      "<ipython-input-9-fed872aca1b6>:2: SettingWithCopyWarning: \n",
      "A value is trying to be set on a copy of a slice from a DataFrame\n",
      "\n",
      "See the caveats in the documentation: https://pandas.pydata.org/pandas-docs/stable/user_guide/indexing.html#returning-a-view-versus-a-copy\n",
      "  data['Acc.'][data['Acc.'].isnull()] = 100\n",
      "<ipython-input-9-fed872aca1b6>:4: SettingWithCopyWarning: \n",
      "A value is trying to be set on a copy of a slice from a DataFrame\n",
      "\n",
      "See the caveats in the documentation: https://pandas.pydata.org/pandas-docs/stable/user_guide/indexing.html#returning-a-view-versus-a-copy\n",
      "  data['Prob. (%)'][data['Prob. (%)'].isnull()] = 100\n",
      "<ipython-input-9-fed872aca1b6>:6: SettingWithCopyWarning: \n",
      "A value is trying to be set on a copy of a slice from a DataFrame\n",
      "\n",
      "See the caveats in the documentation: https://pandas.pydata.org/pandas-docs/stable/user_guide/indexing.html#returning-a-view-versus-a-copy\n",
      "  data['Power'][data['Power'].isnull()] = 0\n"
     ]
    }
   ],
   "source": [
    "#Логично, что если в таблице нет данных о точности способности, значит она работает гарантированно\n",
    "data['Acc.'][data['Acc.'].isnull()] = 100\n",
    "#Аналогично с вероятностью действия способности\n",
    "data['Prob. (%)'][data['Prob. (%)'].isnull()] = 100\n",
    "#Также логично, что если в таблице нет данных о силе способности, то она не наносит урон, а значит равна нулю\n",
    "data['Power'][data['Power'].isnull()] = 0"
   ]
  },
  {
   "cell_type": "code",
   "execution_count": 10,
   "metadata": {
    "scrolled": true
   },
   "outputs": [
    {
     "data": {
      "text/plain": [
       "(607, 9)"
      ]
     },
     "execution_count": 10,
     "metadata": {},
     "output_type": "execute_result"
    }
   ],
   "source": [
    "data.shape"
   ]
  },
  {
   "cell_type": "code",
   "execution_count": 11,
   "metadata": {},
   "outputs": [
    {
     "name": "stderr",
     "output_type": "stream",
     "text": [
      "<ipython-input-11-a6b7b03823ce>:4: SettingWithCopyWarning: \n",
      "A value is trying to be set on a copy of a slice from a DataFrame\n",
      "\n",
      "See the caveats in the documentation: https://pandas.pydata.org/pandas-docs/stable/user_guide/indexing.html#returning-a-view-versus-a-copy\n",
      "  data['Acc.'][i] = 100\n"
     ]
    }
   ],
   "source": [
    "#Почему то в некоторых строках значение \"точности\" равнялось бесконечности, что не имеет никакого смысла.\n",
    "for i in range(len(data['Acc.'])):\n",
    "    if(data['Acc.'][i] == '∞'):\n",
    "        data['Acc.'][i] = 100"
   ]
  },
  {
   "cell_type": "code",
   "execution_count": 12,
   "metadata": {
    "scrolled": true
   },
   "outputs": [
    {
     "data": {
      "text/plain": [
       "Name           0\n",
       "Type           0\n",
       "Cat.           0\n",
       "Power          0\n",
       "Acc.           0\n",
       "PP             1\n",
       "TM           506\n",
       "Effect        32\n",
       "Prob. (%)      0\n",
       "dtype: int64"
      ]
     },
     "execution_count": 12,
     "metadata": {},
     "output_type": "execute_result"
    }
   ],
   "source": [
    "data.isnull().sum()"
   ]
  },
  {
   "cell_type": "code",
   "execution_count": 13,
   "metadata": {
    "scrolled": true
   },
   "outputs": [],
   "source": [
    "data['Acc.'] = data['Acc.'].astype(str).astype(int)"
   ]
  },
  {
   "cell_type": "code",
   "execution_count": 14,
   "metadata": {
    "scrolled": true
   },
   "outputs": [
    {
     "data": {
      "text/html": [
       "<div>\n",
       "<style scoped>\n",
       "    .dataframe tbody tr th:only-of-type {\n",
       "        vertical-align: middle;\n",
       "    }\n",
       "\n",
       "    .dataframe tbody tr th {\n",
       "        vertical-align: top;\n",
       "    }\n",
       "\n",
       "    .dataframe thead th {\n",
       "        text-align: right;\n",
       "    }\n",
       "</style>\n",
       "<table border=\"1\" class=\"dataframe\">\n",
       "  <thead>\n",
       "    <tr style=\"text-align: right;\">\n",
       "      <th></th>\n",
       "      <th>Name</th>\n",
       "      <th>Type</th>\n",
       "      <th>Cat.</th>\n",
       "      <th>Power</th>\n",
       "      <th>Acc.</th>\n",
       "      <th>PP</th>\n",
       "      <th>TM</th>\n",
       "      <th>Effect</th>\n",
       "      <th>Prob. (%)</th>\n",
       "    </tr>\n",
       "  </thead>\n",
       "  <tbody>\n",
       "    <tr>\n",
       "      <th>516</th>\n",
       "      <td>Struggle</td>\n",
       "      <td>NORMAL</td>\n",
       "      <td>Physical</td>\n",
       "      <td>50.0</td>\n",
       "      <td>100</td>\n",
       "      <td>NaN</td>\n",
       "      <td>NaN</td>\n",
       "      <td>Only usable when all PP are gone. Hurts the user.</td>\n",
       "      <td>100.0</td>\n",
       "    </tr>\n",
       "  </tbody>\n",
       "</table>\n",
       "</div>"
      ],
      "text/plain": [
       "         Name    Type      Cat.  Power  Acc.  PP   TM  \\\n",
       "516  Struggle  NORMAL  Physical   50.0   100 NaN  NaN   \n",
       "\n",
       "                                                Effect  Prob. (%)  \n",
       "516  Only usable when all PP are gone. Hurts the user.      100.0  "
      ]
     },
     "execution_count": 14,
     "metadata": {},
     "output_type": "execute_result"
    }
   ],
   "source": [
    "data[data['PP'].isnull()].head()"
   ]
  },
  {
   "cell_type": "code",
   "execution_count": 15,
   "metadata": {},
   "outputs": [],
   "source": [
    "#Единственное пустое значение для PP у способности, которая работает, когда значение PP кончилось\n",
    "#Мы могли бы сделать его значение равно нулю, но это неправильно, потому что способность вместо этого тратит хп\n",
    "#и поэтому она будет портить статистику, легче будет просто ее удалить\n",
    "data = data.drop(516, 0)"
   ]
  },
  {
   "cell_type": "code",
   "execution_count": 16,
   "metadata": {
    "scrolled": true
   },
   "outputs": [
    {
     "data": {
      "text/plain": [
       "Name           0\n",
       "Type           0\n",
       "Cat.           0\n",
       "Power          0\n",
       "Acc.           0\n",
       "PP             0\n",
       "TM           505\n",
       "Effect        32\n",
       "Prob. (%)      0\n",
       "dtype: int64"
      ]
     },
     "execution_count": 16,
     "metadata": {},
     "output_type": "execute_result"
    }
   ],
   "source": [
    "data.isnull().sum()"
   ]
  },
  {
   "cell_type": "code",
   "execution_count": 17,
   "metadata": {},
   "outputs": [],
   "source": [
    "#ТМ имеет слишком много пропусков и не имеет значения, поэтому можем спокойно его удалить\n",
    "#Также удалим Effect потому что это описания и после этого этапа они аткже не нужны\n",
    "data = data.dropna(axis=1, how='any')"
   ]
  },
  {
   "cell_type": "code",
   "execution_count": 18,
   "metadata": {},
   "outputs": [],
   "source": [
    "#Столбец Name так же не имеет значения, поэтому удалим его\n",
    "data = data.drop('Name', 1)"
   ]
  },
  {
   "cell_type": "code",
   "execution_count": 19,
   "metadata": {},
   "outputs": [
    {
     "data": {
      "text/plain": [
       "Type         0\n",
       "Cat.         0\n",
       "Power        0\n",
       "Acc.         0\n",
       "PP           0\n",
       "Prob. (%)    0\n",
       "dtype: int64"
      ]
     },
     "execution_count": 19,
     "metadata": {},
     "output_type": "execute_result"
    }
   ],
   "source": [
    "data.isnull().sum()"
   ]
  },
  {
   "cell_type": "code",
   "execution_count": 20,
   "metadata": {},
   "outputs": [],
   "source": [
    "data['PP'] = data['PP'].astype(int)\n",
    "data['Power'] = data['Power'].astype(int)\n",
    "data['Prob. (%)'] = data['Prob. (%)'].astype(int)"
   ]
  },
  {
   "cell_type": "code",
   "execution_count": 21,
   "metadata": {},
   "outputs": [
    {
     "data": {
      "text/plain": [
       "Type         object\n",
       "Cat.         object\n",
       "Power         int64\n",
       "Acc.          int64\n",
       "PP            int64\n",
       "Prob. (%)     int64\n",
       "dtype: object"
      ]
     },
     "execution_count": 21,
     "metadata": {},
     "output_type": "execute_result"
    }
   ],
   "source": [
    "data.dtypes"
   ]
  },
  {
   "cell_type": "markdown",
   "metadata": {},
   "source": [
    "## Кодирование категориальных признаков"
   ]
  },
  {
   "cell_type": "code",
   "execution_count": 22,
   "metadata": {
    "scrolled": true
   },
   "outputs": [],
   "source": [
    "data = pd.get_dummies(data)"
   ]
  },
  {
   "cell_type": "code",
   "execution_count": 23,
   "metadata": {},
   "outputs": [
    {
     "data": {
      "text/html": [
       "<div>\n",
       "<style scoped>\n",
       "    .dataframe tbody tr th:only-of-type {\n",
       "        vertical-align: middle;\n",
       "    }\n",
       "\n",
       "    .dataframe tbody tr th {\n",
       "        vertical-align: top;\n",
       "    }\n",
       "\n",
       "    .dataframe thead th {\n",
       "        text-align: right;\n",
       "    }\n",
       "</style>\n",
       "<table border=\"1\" class=\"dataframe\">\n",
       "  <thead>\n",
       "    <tr style=\"text-align: right;\">\n",
       "      <th></th>\n",
       "      <th>Power</th>\n",
       "      <th>Acc.</th>\n",
       "      <th>PP</th>\n",
       "      <th>Prob. (%)</th>\n",
       "      <th>Type_BUG</th>\n",
       "      <th>Type_DARK</th>\n",
       "      <th>Type_DRAGON</th>\n",
       "      <th>Type_ELECTRIC</th>\n",
       "      <th>Type_FAIRY</th>\n",
       "      <th>Type_FIGHTING</th>\n",
       "      <th>...</th>\n",
       "      <th>Type_ICE</th>\n",
       "      <th>Type_NORMAL</th>\n",
       "      <th>Type_POISON</th>\n",
       "      <th>Type_PSYCHIC</th>\n",
       "      <th>Type_ROCK</th>\n",
       "      <th>Type_STEEL</th>\n",
       "      <th>Type_WATER</th>\n",
       "      <th>Cat._Physical</th>\n",
       "      <th>Cat._Special</th>\n",
       "      <th>Cat._Status</th>\n",
       "    </tr>\n",
       "  </thead>\n",
       "  <tbody>\n",
       "    <tr>\n",
       "      <th>0</th>\n",
       "      <td>20</td>\n",
       "      <td>100</td>\n",
       "      <td>25</td>\n",
       "      <td>100</td>\n",
       "      <td>0</td>\n",
       "      <td>0</td>\n",
       "      <td>0</td>\n",
       "      <td>0</td>\n",
       "      <td>0</td>\n",
       "      <td>0</td>\n",
       "      <td>...</td>\n",
       "      <td>0</td>\n",
       "      <td>0</td>\n",
       "      <td>0</td>\n",
       "      <td>0</td>\n",
       "      <td>0</td>\n",
       "      <td>0</td>\n",
       "      <td>0</td>\n",
       "      <td>0</td>\n",
       "      <td>1</td>\n",
       "      <td>0</td>\n",
       "    </tr>\n",
       "    <tr>\n",
       "      <th>1</th>\n",
       "      <td>40</td>\n",
       "      <td>100</td>\n",
       "      <td>30</td>\n",
       "      <td>10</td>\n",
       "      <td>0</td>\n",
       "      <td>0</td>\n",
       "      <td>0</td>\n",
       "      <td>0</td>\n",
       "      <td>0</td>\n",
       "      <td>0</td>\n",
       "      <td>...</td>\n",
       "      <td>0</td>\n",
       "      <td>0</td>\n",
       "      <td>1</td>\n",
       "      <td>0</td>\n",
       "      <td>0</td>\n",
       "      <td>0</td>\n",
       "      <td>0</td>\n",
       "      <td>0</td>\n",
       "      <td>1</td>\n",
       "      <td>0</td>\n",
       "    </tr>\n",
       "    <tr>\n",
       "      <th>2</th>\n",
       "      <td>0</td>\n",
       "      <td>100</td>\n",
       "      <td>40</td>\n",
       "      <td>100</td>\n",
       "      <td>0</td>\n",
       "      <td>0</td>\n",
       "      <td>0</td>\n",
       "      <td>0</td>\n",
       "      <td>0</td>\n",
       "      <td>0</td>\n",
       "      <td>...</td>\n",
       "      <td>0</td>\n",
       "      <td>0</td>\n",
       "      <td>1</td>\n",
       "      <td>0</td>\n",
       "      <td>0</td>\n",
       "      <td>0</td>\n",
       "      <td>0</td>\n",
       "      <td>0</td>\n",
       "      <td>0</td>\n",
       "      <td>1</td>\n",
       "    </tr>\n",
       "    <tr>\n",
       "      <th>3</th>\n",
       "      <td>40</td>\n",
       "      <td>100</td>\n",
       "      <td>20</td>\n",
       "      <td>100</td>\n",
       "      <td>0</td>\n",
       "      <td>0</td>\n",
       "      <td>0</td>\n",
       "      <td>0</td>\n",
       "      <td>0</td>\n",
       "      <td>0</td>\n",
       "      <td>...</td>\n",
       "      <td>0</td>\n",
       "      <td>0</td>\n",
       "      <td>1</td>\n",
       "      <td>0</td>\n",
       "      <td>0</td>\n",
       "      <td>0</td>\n",
       "      <td>0</td>\n",
       "      <td>0</td>\n",
       "      <td>1</td>\n",
       "      <td>0</td>\n",
       "    </tr>\n",
       "    <tr>\n",
       "      <th>4</th>\n",
       "      <td>55</td>\n",
       "      <td>100</td>\n",
       "      <td>15</td>\n",
       "      <td>100</td>\n",
       "      <td>0</td>\n",
       "      <td>0</td>\n",
       "      <td>0</td>\n",
       "      <td>0</td>\n",
       "      <td>0</td>\n",
       "      <td>0</td>\n",
       "      <td>...</td>\n",
       "      <td>0</td>\n",
       "      <td>0</td>\n",
       "      <td>0</td>\n",
       "      <td>0</td>\n",
       "      <td>0</td>\n",
       "      <td>0</td>\n",
       "      <td>0</td>\n",
       "      <td>1</td>\n",
       "      <td>0</td>\n",
       "      <td>0</td>\n",
       "    </tr>\n",
       "  </tbody>\n",
       "</table>\n",
       "<p>5 rows × 25 columns</p>\n",
       "</div>"
      ],
      "text/plain": [
       "   Power  Acc.  PP  Prob. (%)  Type_BUG  Type_DARK  Type_DRAGON  \\\n",
       "0     20   100  25        100         0          0            0   \n",
       "1     40   100  30         10         0          0            0   \n",
       "2      0   100  40        100         0          0            0   \n",
       "3     40   100  20        100         0          0            0   \n",
       "4     55   100  15        100         0          0            0   \n",
       "\n",
       "   Type_ELECTRIC  Type_FAIRY  Type_FIGHTING  ...  Type_ICE  Type_NORMAL  \\\n",
       "0              0           0              0  ...         0            0   \n",
       "1              0           0              0  ...         0            0   \n",
       "2              0           0              0  ...         0            0   \n",
       "3              0           0              0  ...         0            0   \n",
       "4              0           0              0  ...         0            0   \n",
       "\n",
       "   Type_POISON  Type_PSYCHIC  Type_ROCK  Type_STEEL  Type_WATER  \\\n",
       "0            0             0          0           0           0   \n",
       "1            1             0          0           0           0   \n",
       "2            1             0          0           0           0   \n",
       "3            1             0          0           0           0   \n",
       "4            0             0          0           0           0   \n",
       "\n",
       "   Cat._Physical  Cat._Special  Cat._Status  \n",
       "0              0             1            0  \n",
       "1              0             1            0  \n",
       "2              0             0            1  \n",
       "3              0             1            0  \n",
       "4              1             0            0  \n",
       "\n",
       "[5 rows x 25 columns]"
      ]
     },
     "execution_count": 23,
     "metadata": {},
     "output_type": "execute_result"
    }
   ],
   "source": [
    "data.head()"
   ]
  },
  {
   "cell_type": "markdown",
   "metadata": {},
   "source": [
    "## Масштабирование данных"
   ]
  },
  {
   "cell_type": "code",
   "execution_count": 24,
   "metadata": {},
   "outputs": [],
   "source": [
    "from sklearn.preprocessing import MinMaxScaler, StandardScaler, Normalizer"
   ]
  },
  {
   "cell_type": "code",
   "execution_count": 25,
   "metadata": {},
   "outputs": [],
   "source": [
    "data_unscaled = data.copy()"
   ]
  },
  {
   "cell_type": "code",
   "execution_count": 26,
   "metadata": {
    "scrolled": false
   },
   "outputs": [
    {
     "data": {
      "text/plain": [
       "<seaborn.axisgrid.FacetGrid at 0x7f4b69d47b80>"
      ]
     },
     "execution_count": 26,
     "metadata": {},
     "output_type": "execute_result"
    },
    {
     "data": {
      "image/png": "[encoded data removed]",
      "text/plain": [
       "<Figure size 360x360 with 1 Axes>"
      ]
     },
     "metadata": {},
     "output_type": "display_data"
    },
    {
     "data": {
      "image/png": "[encoded data removed]",
      "text/plain": [
       "<Figure size 360x360 with 1 Axes>"
      ]
     },
     "metadata": {},
     "output_type": "display_data"
    },
    {
     "data": {
      "image/png": "[encoded data removed]",
      "text/plain": [
       "<Figure size 360x360 with 1 Axes>"
      ]
     },
     "metadata": {},
     "output_type": "display_data"
    },
    {
     "data": {
      "image/png": "[encoded data removed]",
      "text/plain": [
       "<Figure size 360x360 with 1 Axes>"
      ]
     },
     "metadata": {},
     "output_type": "display_data"
    }
   ],
   "source": [
    "sns.displot(data=data, x=\"Power\", kde = True)\n",
    "sns.displot(data=data, x=\"Acc.\", kde = True)\n",
    "sns.displot(data=data, x=\"PP\", kde = True)\n",
    "sns.displot(data=data, x=\"Prob. (%)\", kde = True)"
   ]
  },
  {
   "cell_type": "markdown",
   "metadata": {},
   "source": [
    "График Power соответствует нормальному распределению, за исключением перекоса на нулевом значении, поэтому применим MinMaxScaler"
   ]
  },
  {
   "cell_type": "code",
   "execution_count": 27,
   "metadata": {},
   "outputs": [],
   "source": [
    "from sklearn.preprocessing import MinMaxScaler, StandardScaler\n",
    "mms = MinMaxScaler()\n",
    "Power = mms.fit_transform(data[['Power']])\n",
    "data[\"Power\"] = Power"
   ]
  },
  {
   "cell_type": "code",
   "execution_count": 28,
   "metadata": {
    "scrolled": false
   },
   "outputs": [
    {
     "data": {
      "text/plain": [
       "<seaborn.axisgrid.FacetGrid at 0x7f4b69b7d370>"
      ]
     },
     "execution_count": 28,
     "metadata": {},
     "output_type": "execute_result"
    },
    {
     "data": {
      "image/png": "[encoded data removed]",
      "text/plain": [
       "<Figure size 360x360 with 1 Axes>"
      ]
     },
     "metadata": {},
     "output_type": "display_data"
    }
   ],
   "source": [
    "sns.displot(data=data, x=\"Power\", kde = True)"
   ]
  },
  {
   "cell_type": "markdown",
   "metadata": {},
   "source": [
    "Рассмотрим Acc."
   ]
  },
  {
   "cell_type": "code",
   "execution_count": 29,
   "metadata": {},
   "outputs": [
    {
     "data": {
      "text/plain": [
       "<AxesSubplot:xlabel='Acc.'>"
      ]
     },
     "execution_count": 29,
     "metadata": {},
     "output_type": "execute_result"
    },
    {
     "data": {
      "image/png": "[encoded data removed]",
      "text/plain": [
       "<Figure size 432x288 with 1 Axes>"
      ]
     },
     "metadata": {},
     "output_type": "display_data"
    }
   ],
   "source": [
    "sns.violinplot(data=data, x=\"Acc.\", kde = True)"
   ]
  },
  {
   "cell_type": "markdown",
   "metadata": {},
   "source": [
    "Видим \"хвост\", поэтому используем Z-оценку"
   ]
  },
  {
   "cell_type": "code",
   "execution_count": 30,
   "metadata": {},
   "outputs": [],
   "source": [
    "ss = StandardScaler()\n",
    "Accuracy = ss.fit_transform(data[['Acc.']])\n",
    "data[\"Acc.\"] = Accuracy"
   ]
  },
  {
   "cell_type": "code",
   "execution_count": 31,
   "metadata": {},
   "outputs": [
    {
     "data": {
      "text/plain": [
       "<AxesSubplot:xlabel='Acc.'>"
      ]
     },
     "execution_count": 31,
     "metadata": {},
     "output_type": "execute_result"
    },
    {
     "data": {
      "image/png": "[encoded data removed]",
      "text/plain": [
       "<Figure size 432x288 with 1 Axes>"
      ]
     },
     "metadata": {},
     "output_type": "display_data"
    }
   ],
   "source": [
    "sns.violinplot(data=data, x=\"Acc.\", kde = True)"
   ]
  },
  {
   "cell_type": "markdown",
   "metadata": {},
   "source": [
    "График PP соответствует нормальному распределению, поэтому применим MinMaxScaler"
   ]
  },
  {
   "cell_type": "code",
   "execution_count": 32,
   "metadata": {},
   "outputs": [],
   "source": [
    "mms = MinMaxScaler()\n",
    "PP = mms.fit_transform(data[['PP']])\n",
    "data[\"PP\"] = PP"
   ]
  },
  {
   "cell_type": "code",
   "execution_count": 33,
   "metadata": {},
   "outputs": [
    {
     "data": {
      "text/plain": [
       "<seaborn.axisgrid.FacetGrid at 0x7f4b69d87340>"
      ]
     },
     "execution_count": 33,
     "metadata": {},
     "output_type": "execute_result"
    },
    {
     "data": {
      "image/png": "[encoded data removed]",
      "text/plain": [
       "<Figure size 360x360 with 1 Axes>"
      ]
     },
     "metadata": {},
     "output_type": "display_data"
    }
   ],
   "source": [
    "sns.displot(data=data, x=\"PP\", kde = True)"
   ]
  },
  {
   "cell_type": "code",
   "execution_count": 34,
   "metadata": {},
   "outputs": [
    {
     "data": {
      "text/plain": [
       "<AxesSubplot:xlabel='Prob. (%)'>"
      ]
     },
     "execution_count": 34,
     "metadata": {},
     "output_type": "execute_result"
    },
    {
     "data": {
      "image/png": "[encoded data removed]",
      "text/plain": [
       "<Figure size 432x288 with 1 Axes>"
      ]
     },
     "metadata": {},
     "output_type": "display_data"
    }
   ],
   "source": [
    "sns.violinplot(data=data, x=\"Prob. (%)\", kde = True)"
   ]
  },
  {
   "cell_type": "markdown",
   "metadata": {},
   "source": [
    "Нормального распределения не наблюдается, используем Z-оценку"
   ]
  },
  {
   "cell_type": "code",
   "execution_count": 35,
   "metadata": {},
   "outputs": [],
   "source": [
    "ss = StandardScaler()\n",
    "Probability = ss.fit_transform(data[['Prob. (%)']])\n",
    "data[\"Prob. (%)\"] = Probability"
   ]
  },
  {
   "cell_type": "code",
   "execution_count": 36,
   "metadata": {},
   "outputs": [
    {
     "data": {
      "text/plain": [
       "<AxesSubplot:xlabel='Prob. (%)'>"
      ]
     },
     "execution_count": 36,
     "metadata": {},
     "output_type": "execute_result"
    },
    {
     "data": {
      "image/png": "[encoded data removed]",
      "text/plain": [
       "<Figure size 432x288 with 1 Axes>"
      ]
     },
     "metadata": {},
     "output_type": "display_data"
    }
   ],
   "source": [
    "sns.violinplot(data=data, x=\"Prob. (%)\", kde = True)"
   ]
  },
  {
   "cell_type": "markdown",
   "metadata": {},
   "source": [
    "Итоговый вид набора данных"
   ]
  },
  {
   "cell_type": "code",
   "execution_count": 37,
   "metadata": {},
   "outputs": [
    {
     "data": {
      "text/html": [
       "<div>\n",
       "<style scoped>\n",
       "    .dataframe tbody tr th:only-of-type {\n",
       "        vertical-align: middle;\n",
       "    }\n",
       "\n",
       "    .dataframe tbody tr th {\n",
       "        vertical-align: top;\n",
       "    }\n",
       "\n",
       "    .dataframe thead th {\n",
       "        text-align: right;\n",
       "    }\n",
       "</style>\n",
       "<table border=\"1\" class=\"dataframe\">\n",
       "  <thead>\n",
       "    <tr style=\"text-align: right;\">\n",
       "      <th></th>\n",
       "      <th>Power</th>\n",
       "      <th>Acc.</th>\n",
       "      <th>PP</th>\n",
       "      <th>Prob. (%)</th>\n",
       "      <th>Type_BUG</th>\n",
       "      <th>Type_DARK</th>\n",
       "      <th>Type_DRAGON</th>\n",
       "      <th>Type_ELECTRIC</th>\n",
       "      <th>Type_FAIRY</th>\n",
       "      <th>Type_FIGHTING</th>\n",
       "      <th>...</th>\n",
       "      <th>Type_ICE</th>\n",
       "      <th>Type_NORMAL</th>\n",
       "      <th>Type_POISON</th>\n",
       "      <th>Type_PSYCHIC</th>\n",
       "      <th>Type_ROCK</th>\n",
       "      <th>Type_STEEL</th>\n",
       "      <th>Type_WATER</th>\n",
       "      <th>Cat._Physical</th>\n",
       "      <th>Cat._Special</th>\n",
       "      <th>Cat._Status</th>\n",
       "    </tr>\n",
       "  </thead>\n",
       "  <tbody>\n",
       "    <tr>\n",
       "      <th>0</th>\n",
       "      <td>0.08</td>\n",
       "      <td>0.44533</td>\n",
       "      <td>0.615385</td>\n",
       "      <td>0.470806</td>\n",
       "      <td>0</td>\n",
       "      <td>0</td>\n",
       "      <td>0</td>\n",
       "      <td>0</td>\n",
       "      <td>0</td>\n",
       "      <td>0</td>\n",
       "      <td>...</td>\n",
       "      <td>0</td>\n",
       "      <td>0</td>\n",
       "      <td>0</td>\n",
       "      <td>0</td>\n",
       "      <td>0</td>\n",
       "      <td>0</td>\n",
       "      <td>0</td>\n",
       "      <td>0</td>\n",
       "      <td>1</td>\n",
       "      <td>0</td>\n",
       "    </tr>\n",
       "    <tr>\n",
       "      <th>1</th>\n",
       "      <td>0.16</td>\n",
       "      <td>0.44533</td>\n",
       "      <td>0.743590</td>\n",
       "      <td>-2.464131</td>\n",
       "      <td>0</td>\n",
       "      <td>0</td>\n",
       "      <td>0</td>\n",
       "      <td>0</td>\n",
       "      <td>0</td>\n",
       "      <td>0</td>\n",
       "      <td>...</td>\n",
       "      <td>0</td>\n",
       "      <td>0</td>\n",
       "      <td>1</td>\n",
       "      <td>0</td>\n",
       "      <td>0</td>\n",
       "      <td>0</td>\n",
       "      <td>0</td>\n",
       "      <td>0</td>\n",
       "      <td>1</td>\n",
       "      <td>0</td>\n",
       "    </tr>\n",
       "    <tr>\n",
       "      <th>2</th>\n",
       "      <td>0.00</td>\n",
       "      <td>0.44533</td>\n",
       "      <td>1.000000</td>\n",
       "      <td>0.470806</td>\n",
       "      <td>0</td>\n",
       "      <td>0</td>\n",
       "      <td>0</td>\n",
       "      <td>0</td>\n",
       "      <td>0</td>\n",
       "      <td>0</td>\n",
       "      <td>...</td>\n",
       "      <td>0</td>\n",
       "      <td>0</td>\n",
       "      <td>1</td>\n",
       "      <td>0</td>\n",
       "      <td>0</td>\n",
       "      <td>0</td>\n",
       "      <td>0</td>\n",
       "      <td>0</td>\n",
       "      <td>0</td>\n",
       "      <td>1</td>\n",
       "    </tr>\n",
       "    <tr>\n",
       "      <th>3</th>\n",
       "      <td>0.16</td>\n",
       "      <td>0.44533</td>\n",
       "      <td>0.487179</td>\n",
       "      <td>0.470806</td>\n",
       "      <td>0</td>\n",
       "      <td>0</td>\n",
       "      <td>0</td>\n",
       "      <td>0</td>\n",
       "      <td>0</td>\n",
       "      <td>0</td>\n",
       "      <td>...</td>\n",
       "      <td>0</td>\n",
       "      <td>0</td>\n",
       "      <td>1</td>\n",
       "      <td>0</td>\n",
       "      <td>0</td>\n",
       "      <td>0</td>\n",
       "      <td>0</td>\n",
       "      <td>0</td>\n",
       "      <td>1</td>\n",
       "      <td>0</td>\n",
       "    </tr>\n",
       "    <tr>\n",
       "      <th>4</th>\n",
       "      <td>0.22</td>\n",
       "      <td>0.44533</td>\n",
       "      <td>0.358974</td>\n",
       "      <td>0.470806</td>\n",
       "      <td>0</td>\n",
       "      <td>0</td>\n",
       "      <td>0</td>\n",
       "      <td>0</td>\n",
       "      <td>0</td>\n",
       "      <td>0</td>\n",
       "      <td>...</td>\n",
       "      <td>0</td>\n",
       "      <td>0</td>\n",
       "      <td>0</td>\n",
       "      <td>0</td>\n",
       "      <td>0</td>\n",
       "      <td>0</td>\n",
       "      <td>0</td>\n",
       "      <td>1</td>\n",
       "      <td>0</td>\n",
       "      <td>0</td>\n",
       "    </tr>\n",
       "  </tbody>\n",
       "</table>\n",
       "<p>5 rows × 25 columns</p>\n",
       "</div>"
      ],
      "text/plain": [
       "   Power     Acc.        PP  Prob. (%)  Type_BUG  Type_DARK  Type_DRAGON  \\\n",
       "0   0.08  0.44533  0.615385   0.470806         0          0            0   \n",
       "1   0.16  0.44533  0.743590  -2.464131         0          0            0   \n",
       "2   0.00  0.44533  1.000000   0.470806         0          0            0   \n",
       "3   0.16  0.44533  0.487179   0.470806         0          0            0   \n",
       "4   0.22  0.44533  0.358974   0.470806         0          0            0   \n",
       "\n",
       "   Type_ELECTRIC  Type_FAIRY  Type_FIGHTING  ...  Type_ICE  Type_NORMAL  \\\n",
       "0              0           0              0  ...         0            0   \n",
       "1              0           0              0  ...         0            0   \n",
       "2              0           0              0  ...         0            0   \n",
       "3              0           0              0  ...         0            0   \n",
       "4              0           0              0  ...         0            0   \n",
       "\n",
       "   Type_POISON  Type_PSYCHIC  Type_ROCK  Type_STEEL  Type_WATER  \\\n",
       "0            0             0          0           0           0   \n",
       "1            1             0          0           0           0   \n",
       "2            1             0          0           0           0   \n",
       "3            1             0          0           0           0   \n",
       "4            0             0          0           0           0   \n",
       "\n",
       "   Cat._Physical  Cat._Special  Cat._Status  \n",
       "0              0             1            0  \n",
       "1              0             1            0  \n",
       "2              0             0            1  \n",
       "3              0             1            0  \n",
       "4              1             0            0  \n",
       "\n",
       "[5 rows x 25 columns]"
      ]
     },
     "execution_count": 37,
     "metadata": {},
     "output_type": "execute_result"
    }
   ],
   "source": [
    "data.head()"
   ]
  },
  {
   "cell_type": "code",
   "execution_count": 38,
   "metadata": {},
   "outputs": [],
   "source": [
    "data_scaled = data.copy()"
   ]
  },
  {
   "cell_type": "markdown",
   "metadata": {},
   "source": [
    "# ЛР3"
   ]
  },
  {
   "cell_type": "code",
   "execution_count": 39,
   "metadata": {},
   "outputs": [],
   "source": [
    "from sklearn.model_selection import GridSearchCV, RandomizedSearchCV, KFold, train_test_split"
   ]
  },
  {
   "cell_type": "code",
   "execution_count": 40,
   "metadata": {},
   "outputs": [],
   "source": [
    "columns = data_scaled.columns.tolist()\n",
    "column = columns.pop(columns.index(\"PP\"))\n",
    "columns.append(column)\n",
    "\n",
    "data_scaled = data_scaled[columns]"
   ]
  },
  {
   "cell_type": "code",
   "execution_count": 41,
   "metadata": {},
   "outputs": [
    {
     "data": {
      "text/html": [
       "<div>\n",
       "<style scoped>\n",
       "    .dataframe tbody tr th:only-of-type {\n",
       "        vertical-align: middle;\n",
       "    }\n",
       "\n",
       "    .dataframe tbody tr th {\n",
       "        vertical-align: top;\n",
       "    }\n",
       "\n",
       "    .dataframe thead th {\n",
       "        text-align: right;\n",
       "    }\n",
       "</style>\n",
       "<table border=\"1\" class=\"dataframe\">\n",
       "  <thead>\n",
       "    <tr style=\"text-align: right;\">\n",
       "      <th></th>\n",
       "      <th>Power</th>\n",
       "      <th>Acc.</th>\n",
       "      <th>Prob. (%)</th>\n",
       "      <th>Type_BUG</th>\n",
       "      <th>Type_DARK</th>\n",
       "      <th>Type_DRAGON</th>\n",
       "      <th>Type_ELECTRIC</th>\n",
       "      <th>Type_FAIRY</th>\n",
       "      <th>Type_FIGHTING</th>\n",
       "      <th>Type_FIRE</th>\n",
       "      <th>...</th>\n",
       "      <th>Type_NORMAL</th>\n",
       "      <th>Type_POISON</th>\n",
       "      <th>Type_PSYCHIC</th>\n",
       "      <th>Type_ROCK</th>\n",
       "      <th>Type_STEEL</th>\n",
       "      <th>Type_WATER</th>\n",
       "      <th>Cat._Physical</th>\n",
       "      <th>Cat._Special</th>\n",
       "      <th>Cat._Status</th>\n",
       "      <th>PP</th>\n",
       "    </tr>\n",
       "  </thead>\n",
       "  <tbody>\n",
       "    <tr>\n",
       "      <th>0</th>\n",
       "      <td>0.08</td>\n",
       "      <td>0.44533</td>\n",
       "      <td>0.470806</td>\n",
       "      <td>0</td>\n",
       "      <td>0</td>\n",
       "      <td>0</td>\n",
       "      <td>0</td>\n",
       "      <td>0</td>\n",
       "      <td>0</td>\n",
       "      <td>0</td>\n",
       "      <td>...</td>\n",
       "      <td>0</td>\n",
       "      <td>0</td>\n",
       "      <td>0</td>\n",
       "      <td>0</td>\n",
       "      <td>0</td>\n",
       "      <td>0</td>\n",
       "      <td>0</td>\n",
       "      <td>1</td>\n",
       "      <td>0</td>\n",
       "      <td>0.615385</td>\n",
       "    </tr>\n",
       "    <tr>\n",
       "      <th>1</th>\n",
       "      <td>0.16</td>\n",
       "      <td>0.44533</td>\n",
       "      <td>-2.464131</td>\n",
       "      <td>0</td>\n",
       "      <td>0</td>\n",
       "      <td>0</td>\n",
       "      <td>0</td>\n",
       "      <td>0</td>\n",
       "      <td>0</td>\n",
       "      <td>0</td>\n",
       "      <td>...</td>\n",
       "      <td>0</td>\n",
       "      <td>1</td>\n",
       "      <td>0</td>\n",
       "      <td>0</td>\n",
       "      <td>0</td>\n",
       "      <td>0</td>\n",
       "      <td>0</td>\n",
       "      <td>1</td>\n",
       "      <td>0</td>\n",
       "      <td>0.743590</td>\n",
       "    </tr>\n",
       "    <tr>\n",
       "      <th>2</th>\n",
       "      <td>0.00</td>\n",
       "      <td>0.44533</td>\n",
       "      <td>0.470806</td>\n",
       "      <td>0</td>\n",
       "      <td>0</td>\n",
       "      <td>0</td>\n",
       "      <td>0</td>\n",
       "      <td>0</td>\n",
       "      <td>0</td>\n",
       "      <td>0</td>\n",
       "      <td>...</td>\n",
       "      <td>0</td>\n",
       "      <td>1</td>\n",
       "      <td>0</td>\n",
       "      <td>0</td>\n",
       "      <td>0</td>\n",
       "      <td>0</td>\n",
       "      <td>0</td>\n",
       "      <td>0</td>\n",
       "      <td>1</td>\n",
       "      <td>1.000000</td>\n",
       "    </tr>\n",
       "    <tr>\n",
       "      <th>3</th>\n",
       "      <td>0.16</td>\n",
       "      <td>0.44533</td>\n",
       "      <td>0.470806</td>\n",
       "      <td>0</td>\n",
       "      <td>0</td>\n",
       "      <td>0</td>\n",
       "      <td>0</td>\n",
       "      <td>0</td>\n",
       "      <td>0</td>\n",
       "      <td>0</td>\n",
       "      <td>...</td>\n",
       "      <td>0</td>\n",
       "      <td>1</td>\n",
       "      <td>0</td>\n",
       "      <td>0</td>\n",
       "      <td>0</td>\n",
       "      <td>0</td>\n",
       "      <td>0</td>\n",
       "      <td>1</td>\n",
       "      <td>0</td>\n",
       "      <td>0.487179</td>\n",
       "    </tr>\n",
       "    <tr>\n",
       "      <th>4</th>\n",
       "      <td>0.22</td>\n",
       "      <td>0.44533</td>\n",
       "      <td>0.470806</td>\n",
       "      <td>0</td>\n",
       "      <td>0</td>\n",
       "      <td>0</td>\n",
       "      <td>0</td>\n",
       "      <td>0</td>\n",
       "      <td>0</td>\n",
       "      <td>0</td>\n",
       "      <td>...</td>\n",
       "      <td>0</td>\n",
       "      <td>0</td>\n",
       "      <td>0</td>\n",
       "      <td>0</td>\n",
       "      <td>0</td>\n",
       "      <td>0</td>\n",
       "      <td>1</td>\n",
       "      <td>0</td>\n",
       "      <td>0</td>\n",
       "      <td>0.358974</td>\n",
       "    </tr>\n",
       "  </tbody>\n",
       "</table>\n",
       "<p>5 rows × 25 columns</p>\n",
       "</div>"
      ],
      "text/plain": [
       "   Power     Acc.  Prob. (%)  Type_BUG  Type_DARK  Type_DRAGON  Type_ELECTRIC  \\\n",
       "0   0.08  0.44533   0.470806         0          0            0              0   \n",
       "1   0.16  0.44533  -2.464131         0          0            0              0   \n",
       "2   0.00  0.44533   0.470806         0          0            0              0   \n",
       "3   0.16  0.44533   0.470806         0          0            0              0   \n",
       "4   0.22  0.44533   0.470806         0          0            0              0   \n",
       "\n",
       "   Type_FAIRY  Type_FIGHTING  Type_FIRE  ...  Type_NORMAL  Type_POISON  \\\n",
       "0           0              0          0  ...            0            0   \n",
       "1           0              0          0  ...            0            1   \n",
       "2           0              0          0  ...            0            1   \n",
       "3           0              0          0  ...            0            1   \n",
       "4           0              0          0  ...            0            0   \n",
       "\n",
       "   Type_PSYCHIC  Type_ROCK  Type_STEEL  Type_WATER  Cat._Physical  \\\n",
       "0             0          0           0           0              0   \n",
       "1             0          0           0           0              0   \n",
       "2             0          0           0           0              0   \n",
       "3             0          0           0           0              0   \n",
       "4             0          0           0           0              1   \n",
       "\n",
       "   Cat._Special  Cat._Status        PP  \n",
       "0             1            0  0.615385  \n",
       "1             1            0  0.743590  \n",
       "2             0            1  1.000000  \n",
       "3             1            0  0.487179  \n",
       "4             0            0  0.358974  \n",
       "\n",
       "[5 rows x 25 columns]"
      ]
     },
     "execution_count": 41,
     "metadata": {},
     "output_type": "execute_result"
    }
   ],
   "source": [
    "data_scaled.head()"
   ]
  },
  {
   "cell_type": "code",
   "execution_count": 42,
   "metadata": {},
   "outputs": [
    {
     "data": {
      "text/plain": [
       "<AxesSubplot:ylabel='Density'>"
      ]
     },
     "execution_count": 42,
     "metadata": {},
     "output_type": "execute_result"
    },
    {
     "data": {
      "image/png": "[encoded data removed]",
      "text/plain": [
       "<Figure size 432x288 with 1 Axes>"
      ]
     },
     "metadata": {},
     "output_type": "display_data"
    }
   ],
   "source": [
    "sns.kdeplot(data = data_scaled, legend = False)"
   ]
  },
  {
   "cell_type": "markdown",
   "metadata": {},
   "source": [
    "## Разделим выборку"
   ]
  },
  {
   "cell_type": "code",
   "execution_count": 43,
   "metadata": {},
   "outputs": [],
   "source": [
    "y_column = \"PP\"\n",
    "x_columns = data_scaled.columns.tolist()\n",
    "x_columns.pop(x_columns.index(y_column))\n",
    "\n",
    "data_scaled_x_train, data_scaled_x_test, data_scaled_y_train, data_scaled_y_test = train_test_split(data_scaled[x_columns], data_scaled[y_column], test_size = 0.8, random_state = 15)"
   ]
  },
  {
   "cell_type": "code",
   "execution_count": 44,
   "metadata": {},
   "outputs": [],
   "source": [
    "from sklearn.neighbors import KNeighborsRegressor\n",
    "\n",
    "\n",
    "knn_scaled = KNeighborsRegressor(n_neighbors = 15)\n",
    "\n",
    "knn_scaled.fit(data_scaled_x_train, data_scaled_y_train)\n",
    "\n",
    "knn_scaled_prediction = knn_scaled.predict(data_scaled_x_test)"
   ]
  },
  {
   "cell_type": "markdown",
   "metadata": {},
   "source": [
    "## Обучим модель для произвольного гиперпараметра"
   ]
  },
  {
   "cell_type": "code",
   "execution_count": 46,
   "metadata": {},
   "outputs": [
    {
     "name": "stdout",
     "output_type": "stream",
     "text": [
      "Средняя абсолютная ошибка: 0.16896642876024318\n",
      "Медианная абсолютная ошибка: 0.12820512820512825\n",
      "Среднеквадратичная ошибка: 0.22033331013001045\n",
      "Коэффициент детерминации: 0.005385464252665173\n"
     ]
    }
   ],
   "source": [
    "from sklearn.metrics import mean_absolute_error, mean_squared_error, median_absolute_error, r2_score\n",
    "from sklearn.model_selection import ShuffleSplit, cross_val_score, cross_validate\n",
    "\n",
    "\n",
    "print('Средняя абсолютная ошибка:',   mean_absolute_error(data_scaled_y_test, knn_scaled_prediction))\n",
    "print('Медианная абсолютная ошибка:',   median_absolute_error(data_scaled_y_test, knn_scaled_prediction))\n",
    "print('Среднеквадратичная ошибка:',   mean_squared_error(data_scaled_y_test, knn_scaled_prediction, squared = False))\n",
    "print('Коэффициент детерминации:',   r2_score(data_scaled_y_test, knn_scaled_prediction))"
   ]
  },
  {
   "cell_type": "markdown",
   "metadata": {},
   "source": [
    "## Подбор гиперпараметров"
   ]
  },
  {
   "cell_type": "markdown",
   "metadata": {},
   "source": [
    "## GridSearch через квадратичную ошибку"
   ]
  },
  {
   "cell_type": "code",
   "execution_count": 47,
   "metadata": {},
   "outputs": [
    {
     "data": {
      "text/plain": [
       "GridSearchCV(cv=10, estimator=KNeighborsRegressor(),\n",
       "             param_grid=[{'n_neighbors': array([ 1,  2,  3,  4,  5,  6,  7,  8,  9, 10, 11, 12, 13, 14, 15, 16, 17,\n",
       "       18, 19, 20, 21, 22, 23, 24, 25, 26, 27, 28, 29, 30, 31, 32, 33, 34,\n",
       "       35, 36, 37, 38, 39, 40, 41, 42, 43, 44, 45, 46, 47, 48, 49, 50])}],\n",
       "             scoring='neg_mean_squared_error')"
      ]
     },
     "execution_count": 47,
     "metadata": {},
     "output_type": "execute_result"
    }
   ],
   "source": [
    "from sklearn.model_selection import GridSearchCV\n",
    "n_range = np.array(range(1, 51, 1))\n",
    "tuned_parameters = [{'n_neighbors': n_range}]\n",
    "gs = GridSearchCV(KNeighborsRegressor(), tuned_parameters, cv=10, scoring='neg_mean_squared_error')\n",
    "gs.fit(data_scaled_x_train, data_scaled_y_train)"
   ]
  },
  {
   "cell_type": "code",
   "execution_count": 48,
   "metadata": {},
   "outputs": [
    {
     "name": "stdout",
     "output_type": "stream",
     "text": [
      "Лучшая модель: KNeighborsRegressor(n_neighbors=11)\n",
      "\n",
      "Лучшее число ближайших соседей: {'n_neighbors': 11}\n",
      "\n",
      "Лучшее значение средней квадратичной ошибки: -0.03849163209034105\n"
     ]
    }
   ],
   "source": [
    "print('Лучшая модель:', gs.best_estimator_)\n",
    "print('\\nЛучшее число ближайших соседей:',gs.best_params_) \n",
    "print('\\nЛучшее значение средней квадратичной ошибки:',gs.best_score_)"
   ]
  },
  {
   "cell_type": "code",
   "execution_count": 49,
   "metadata": {
    "scrolled": true
   },
   "outputs": [
    {
     "name": "stdout",
     "output_type": "stream",
     "text": [
      "Изменение качества тестовой выборки в зависимости от кол-ва соседей:\n",
      "\n"
     ]
    },
    {
     "data": {
      "text/plain": [
       "[<matplotlib.lines.Line2D at 0x7f4b6804fcd0>]"
      ]
     },
     "execution_count": 49,
     "metadata": {},
     "output_type": "execute_result"
    },
    {
     "data": {
      "image/png": "[encoded data removed]",
      "text/plain": [
       "<Figure size 432x288 with 1 Axes>"
      ]
     },
     "metadata": {},
     "output_type": "display_data"
    }
   ],
   "source": [
    "print('Изменение качества тестовой выборки в зависимости от кол-ва соседей:\\n') \n",
    "plt.plot(n_range, gs.cv_results_['mean_test_score'])"
   ]
  },
  {
   "cell_type": "markdown",
   "metadata": {},
   "source": [
    "## GridSearch через коэффициент детерминации"
   ]
  },
  {
   "cell_type": "code",
   "execution_count": 50,
   "metadata": {
    "scrolled": false
   },
   "outputs": [
    {
     "name": "stdout",
     "output_type": "stream",
     "text": [
      "Лучшая модель: KNeighborsRegressor(n_neighbors=11)\n",
      "\n",
      "Лучшее число ближайших соседей: {'n_neighbors': 11}\n",
      "\n",
      "Лучшее значение коэффициента детерминации: -0.0709306186626206\n",
      "\n",
      "Изменение качества тестовой выборки в зависимости от кол-ва соседей:\n",
      "\n"
     ]
    },
    {
     "data": {
      "text/plain": [
       "[<matplotlib.lines.Line2D at 0x7f4b609c68b0>]"
      ]
     },
     "execution_count": 50,
     "metadata": {},
     "output_type": "execute_result"
    },
    {
     "data": {
      "image/png": "[encoded data removed]",
      "text/plain": [
       "<Figure size 432x288 with 1 Axes>"
      ]
     },
     "metadata": {},
     "output_type": "display_data"
    }
   ],
   "source": [
    "gs_det = GridSearchCV(KNeighborsRegressor(), tuned_parameters, cv=10, scoring='r2') \n",
    "gs_det.fit(data_scaled_x_train, data_scaled_y_train)\n",
    "print('Лучшая модель:', gs_det.best_estimator_)\n",
    "print('\\nЛучшее число ближайших соседей:',gs_det.best_params_)\n",
    "print('\\nЛучшее значение коэффициента детерминации:',gs_det.best_score_)\n",
    "print('\\nИзменение качества тестовой выборки в зависимости от кол-ва соседей:\\n') \n",
    "plt.plot(n_range, gs_det.cv_results_['mean_test_score'])"
   ]
  },
  {
   "cell_type": "markdown",
   "metadata": {},
   "source": [
    "## Кросс-валидация"
   ]
  },
  {
   "cell_type": "code",
   "execution_count": 51,
   "metadata": {},
   "outputs": [],
   "source": [
    "from sklearn.model_selection import cross_val_score\n",
    "scores = cross_val_score(KNeighborsRegressor(n_neighbors = 11), \n",
    "                                       data_scaled[x_columns], data_scaled[y_column], \n",
    "                                       scoring = \"r2\", \n",
    "                                       cv = ShuffleSplit(n_splits = 8, \n",
    "                                                         test_size = 0.8, \n",
    "                                                         random_state = 11))"
   ]
  },
  {
   "cell_type": "code",
   "execution_count": 52,
   "metadata": {},
   "outputs": [
    {
     "name": "stdout",
     "output_type": "stream",
     "text": [
      "Усредненное значение коэффицента детерминации для оптимальной модели:  0.035944788846929754\n"
     ]
    }
   ],
   "source": [
    "print('Усредненное значение коэффицента детерминации для оптимальной модели: ', np.mean(scores)) "
   ]
  },
  {
   "cell_type": "markdown",
   "metadata": {},
   "source": [
    "Коэффицент детерминации стал меньше, но все еще больше нуля"
   ]
  }
 ],
 "metadata": {
  "kernelspec": {
   "display_name": "Python 3",
   "language": "python",
   "name": "python3"
  },
  "language_info": {
   "codemirror_mode": {
    "name": "ipython",
    "version": 3
   },
   "file_extension": ".py",
   "mimetype": "text/x-python",
   "name": "python",
   "nbconvert_exporter": "python",
   "pygments_lexer": "ipython3",
   "version": "3.8.5"
  }
 },
 "nbformat": 4,
 "nbformat_minor": 4
}
