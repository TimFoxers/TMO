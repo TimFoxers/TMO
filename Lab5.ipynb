{
 "cells": [
  {
   "cell_type": "markdown",
   "metadata": {},
   "source": [
    "# Лабораторная работа №5 Лисин РТ5-61Б"
   ]
  },
  {
   "cell_type": "code",
   "execution_count": 1,
   "metadata": {},
   "outputs": [],
   "source": [
    "import pandas as pd\n",
    "import seaborn as sns\n",
    "import matplotlib.pyplot as plt\n",
    "import numpy as np\n",
    "%matplotlib inline\n",
    "sns.set(style=\"ticks\")"
   ]
  },
  {
   "cell_type": "code",
   "execution_count": 2,
   "metadata": {},
   "outputs": [],
   "source": [
    "data = pd.read_csv('pokemon.csv', sep = \",\")"
   ]
  },
  {
   "cell_type": "code",
   "execution_count": 3,
   "metadata": {},
   "outputs": [
    {
     "data": {
      "text/html": [
       "<div>\n",
       "<style scoped>\n",
       "    .dataframe tbody tr th:only-of-type {\n",
       "        vertical-align: middle;\n",
       "    }\n",
       "\n",
       "    .dataframe tbody tr th {\n",
       "        vertical-align: top;\n",
       "    }\n",
       "\n",
       "    .dataframe thead th {\n",
       "        text-align: right;\n",
       "    }\n",
       "</style>\n",
       "<table border=\"1\" class=\"dataframe\">\n",
       "  <thead>\n",
       "    <tr style=\"text-align: right;\">\n",
       "      <th></th>\n",
       "      <th>Number</th>\n",
       "      <th>Name</th>\n",
       "      <th>Type</th>\n",
       "      <th>Total</th>\n",
       "      <th>HP</th>\n",
       "      <th>Attack</th>\n",
       "      <th>Defense</th>\n",
       "      <th>Special Attack</th>\n",
       "      <th>Special Defense</th>\n",
       "      <th>Speed</th>\n",
       "    </tr>\n",
       "  </thead>\n",
       "  <tbody>\n",
       "    <tr>\n",
       "      <th>0</th>\n",
       "      <td>001</td>\n",
       "      <td>Bulbasaur</td>\n",
       "      <td>GRASS</td>\n",
       "      <td>318</td>\n",
       "      <td>45</td>\n",
       "      <td>49</td>\n",
       "      <td>49</td>\n",
       "      <td>65</td>\n",
       "      <td>65</td>\n",
       "      <td>45</td>\n",
       "    </tr>\n",
       "    <tr>\n",
       "      <th>1</th>\n",
       "      <td>001</td>\n",
       "      <td>Bulbasaur</td>\n",
       "      <td>POISON</td>\n",
       "      <td>318</td>\n",
       "      <td>45</td>\n",
       "      <td>49</td>\n",
       "      <td>49</td>\n",
       "      <td>65</td>\n",
       "      <td>65</td>\n",
       "      <td>45</td>\n",
       "    </tr>\n",
       "    <tr>\n",
       "      <th>2</th>\n",
       "      <td>002</td>\n",
       "      <td>Ivysaur</td>\n",
       "      <td>GRASS</td>\n",
       "      <td>405</td>\n",
       "      <td>60</td>\n",
       "      <td>62</td>\n",
       "      <td>63</td>\n",
       "      <td>80</td>\n",
       "      <td>80</td>\n",
       "      <td>60</td>\n",
       "    </tr>\n",
       "    <tr>\n",
       "      <th>3</th>\n",
       "      <td>002</td>\n",
       "      <td>Ivysaur</td>\n",
       "      <td>POISON</td>\n",
       "      <td>405</td>\n",
       "      <td>60</td>\n",
       "      <td>62</td>\n",
       "      <td>63</td>\n",
       "      <td>80</td>\n",
       "      <td>80</td>\n",
       "      <td>60</td>\n",
       "    </tr>\n",
       "    <tr>\n",
       "      <th>4</th>\n",
       "      <td>003</td>\n",
       "      <td>Venusaur</td>\n",
       "      <td>GRASS</td>\n",
       "      <td>525</td>\n",
       "      <td>80</td>\n",
       "      <td>82</td>\n",
       "      <td>83</td>\n",
       "      <td>100</td>\n",
       "      <td>100</td>\n",
       "      <td>80</td>\n",
       "    </tr>\n",
       "  </tbody>\n",
       "</table>\n",
       "</div>"
      ],
      "text/plain": [
       "  Number       Name    Type  Total  HP  Attack  Defense  Special Attack  \\\n",
       "0    001  Bulbasaur   GRASS    318  45      49       49              65   \n",
       "1    001  Bulbasaur  POISON    318  45      49       49              65   \n",
       "2    002    Ivysaur   GRASS    405  60      62       63              80   \n",
       "3    002    Ivysaur  POISON    405  60      62       63              80   \n",
       "4    003   Venusaur   GRASS    525  80      82       83             100   \n",
       "\n",
       "   Special Defense  Speed  \n",
       "0               65     45  \n",
       "1               65     45  \n",
       "2               80     60  \n",
       "3               80     60  \n",
       "4              100     80  "
      ]
     },
     "execution_count": 3,
     "metadata": {},
     "output_type": "execute_result"
    }
   ],
   "source": [
    "data.head()"
   ]
  },
  {
   "cell_type": "code",
   "execution_count": 4,
   "metadata": {},
   "outputs": [],
   "source": [
    "data = data.drop('Name', 1)\n",
    "data = data.drop('Number', 1)\n",
    "data = data.drop('Total', 1)"
   ]
  },
  {
   "cell_type": "code",
   "execution_count": 5,
   "metadata": {},
   "outputs": [],
   "source": [
    "data = pd.get_dummies(data)"
   ]
  },
  {
   "cell_type": "code",
   "execution_count": 6,
   "metadata": {},
   "outputs": [
    {
     "data": {
      "text/html": [
       "<div>\n",
       "<style scoped>\n",
       "    .dataframe tbody tr th:only-of-type {\n",
       "        vertical-align: middle;\n",
       "    }\n",
       "\n",
       "    .dataframe tbody tr th {\n",
       "        vertical-align: top;\n",
       "    }\n",
       "\n",
       "    .dataframe thead th {\n",
       "        text-align: right;\n",
       "    }\n",
       "</style>\n",
       "<table border=\"1\" class=\"dataframe\">\n",
       "  <thead>\n",
       "    <tr style=\"text-align: right;\">\n",
       "      <th></th>\n",
       "      <th>HP</th>\n",
       "      <th>Attack</th>\n",
       "      <th>Defense</th>\n",
       "      <th>Special Attack</th>\n",
       "      <th>Special Defense</th>\n",
       "      <th>Speed</th>\n",
       "      <th>Type_BUG</th>\n",
       "      <th>Type_DARK</th>\n",
       "      <th>Type_DRAGON</th>\n",
       "      <th>Type_ELECTRIC</th>\n",
       "      <th>...</th>\n",
       "      <th>Type_GHOST</th>\n",
       "      <th>Type_GRASS</th>\n",
       "      <th>Type_GROUND</th>\n",
       "      <th>Type_ICE</th>\n",
       "      <th>Type_NORMAL</th>\n",
       "      <th>Type_POISON</th>\n",
       "      <th>Type_PSYCHIC</th>\n",
       "      <th>Type_ROCK</th>\n",
       "      <th>Type_STEEL</th>\n",
       "      <th>Type_WATER</th>\n",
       "    </tr>\n",
       "  </thead>\n",
       "  <tbody>\n",
       "    <tr>\n",
       "      <th>0</th>\n",
       "      <td>45</td>\n",
       "      <td>49</td>\n",
       "      <td>49</td>\n",
       "      <td>65</td>\n",
       "      <td>65</td>\n",
       "      <td>45</td>\n",
       "      <td>0</td>\n",
       "      <td>0</td>\n",
       "      <td>0</td>\n",
       "      <td>0</td>\n",
       "      <td>...</td>\n",
       "      <td>0</td>\n",
       "      <td>1</td>\n",
       "      <td>0</td>\n",
       "      <td>0</td>\n",
       "      <td>0</td>\n",
       "      <td>0</td>\n",
       "      <td>0</td>\n",
       "      <td>0</td>\n",
       "      <td>0</td>\n",
       "      <td>0</td>\n",
       "    </tr>\n",
       "    <tr>\n",
       "      <th>1</th>\n",
       "      <td>45</td>\n",
       "      <td>49</td>\n",
       "      <td>49</td>\n",
       "      <td>65</td>\n",
       "      <td>65</td>\n",
       "      <td>45</td>\n",
       "      <td>0</td>\n",
       "      <td>0</td>\n",
       "      <td>0</td>\n",
       "      <td>0</td>\n",
       "      <td>...</td>\n",
       "      <td>0</td>\n",
       "      <td>0</td>\n",
       "      <td>0</td>\n",
       "      <td>0</td>\n",
       "      <td>0</td>\n",
       "      <td>1</td>\n",
       "      <td>0</td>\n",
       "      <td>0</td>\n",
       "      <td>0</td>\n",
       "      <td>0</td>\n",
       "    </tr>\n",
       "    <tr>\n",
       "      <th>2</th>\n",
       "      <td>60</td>\n",
       "      <td>62</td>\n",
       "      <td>63</td>\n",
       "      <td>80</td>\n",
       "      <td>80</td>\n",
       "      <td>60</td>\n",
       "      <td>0</td>\n",
       "      <td>0</td>\n",
       "      <td>0</td>\n",
       "      <td>0</td>\n",
       "      <td>...</td>\n",
       "      <td>0</td>\n",
       "      <td>1</td>\n",
       "      <td>0</td>\n",
       "      <td>0</td>\n",
       "      <td>0</td>\n",
       "      <td>0</td>\n",
       "      <td>0</td>\n",
       "      <td>0</td>\n",
       "      <td>0</td>\n",
       "      <td>0</td>\n",
       "    </tr>\n",
       "    <tr>\n",
       "      <th>3</th>\n",
       "      <td>60</td>\n",
       "      <td>62</td>\n",
       "      <td>63</td>\n",
       "      <td>80</td>\n",
       "      <td>80</td>\n",
       "      <td>60</td>\n",
       "      <td>0</td>\n",
       "      <td>0</td>\n",
       "      <td>0</td>\n",
       "      <td>0</td>\n",
       "      <td>...</td>\n",
       "      <td>0</td>\n",
       "      <td>0</td>\n",
       "      <td>0</td>\n",
       "      <td>0</td>\n",
       "      <td>0</td>\n",
       "      <td>1</td>\n",
       "      <td>0</td>\n",
       "      <td>0</td>\n",
       "      <td>0</td>\n",
       "      <td>0</td>\n",
       "    </tr>\n",
       "    <tr>\n",
       "      <th>4</th>\n",
       "      <td>80</td>\n",
       "      <td>82</td>\n",
       "      <td>83</td>\n",
       "      <td>100</td>\n",
       "      <td>100</td>\n",
       "      <td>80</td>\n",
       "      <td>0</td>\n",
       "      <td>0</td>\n",
       "      <td>0</td>\n",
       "      <td>0</td>\n",
       "      <td>...</td>\n",
       "      <td>0</td>\n",
       "      <td>1</td>\n",
       "      <td>0</td>\n",
       "      <td>0</td>\n",
       "      <td>0</td>\n",
       "      <td>0</td>\n",
       "      <td>0</td>\n",
       "      <td>0</td>\n",
       "      <td>0</td>\n",
       "      <td>0</td>\n",
       "    </tr>\n",
       "  </tbody>\n",
       "</table>\n",
       "<p>5 rows × 24 columns</p>\n",
       "</div>"
      ],
      "text/plain": [
       "   HP  Attack  Defense  Special Attack  Special Defense  Speed  Type_BUG  \\\n",
       "0  45      49       49              65               65     45         0   \n",
       "1  45      49       49              65               65     45         0   \n",
       "2  60      62       63              80               80     60         0   \n",
       "3  60      62       63              80               80     60         0   \n",
       "4  80      82       83             100              100     80         0   \n",
       "\n",
       "   Type_DARK  Type_DRAGON  Type_ELECTRIC  ...  Type_GHOST  Type_GRASS  \\\n",
       "0          0            0              0  ...           0           1   \n",
       "1          0            0              0  ...           0           0   \n",
       "2          0            0              0  ...           0           1   \n",
       "3          0            0              0  ...           0           0   \n",
       "4          0            0              0  ...           0           1   \n",
       "\n",
       "   Type_GROUND  Type_ICE  Type_NORMAL  Type_POISON  Type_PSYCHIC  Type_ROCK  \\\n",
       "0            0         0            0            0             0          0   \n",
       "1            0         0            0            1             0          0   \n",
       "2            0         0            0            0             0          0   \n",
       "3            0         0            0            1             0          0   \n",
       "4            0         0            0            0             0          0   \n",
       "\n",
       "   Type_STEEL  Type_WATER  \n",
       "0           0           0  \n",
       "1           0           0  \n",
       "2           0           0  \n",
       "3           0           0  \n",
       "4           0           0  \n",
       "\n",
       "[5 rows x 24 columns]"
      ]
     },
     "execution_count": 6,
     "metadata": {},
     "output_type": "execute_result"
    }
   ],
   "source": [
    "data.head()"
   ]
  },
  {
   "cell_type": "code",
   "execution_count": 7,
   "metadata": {},
   "outputs": [],
   "source": [
    "columns = data.columns.tolist()\n",
    "column = columns.pop(columns.index(\"HP\"))\n",
    "columns.append(column)\n",
    "\n",
    "data = data[columns]"
   ]
  },
  {
   "cell_type": "markdown",
   "metadata": {},
   "source": [
    "## Разделим выборку"
   ]
  },
  {
   "cell_type": "code",
   "execution_count": 8,
   "metadata": {},
   "outputs": [],
   "source": [
    "from sklearn.model_selection import GridSearchCV, RandomizedSearchCV, KFold, train_test_split\n",
    "y_column = \"HP\"\n",
    "x_columns = data.columns.tolist()\n",
    "x_columns.pop(x_columns.index(y_column))\n",
    "\n",
    "data_x_train, data_x_test, data_y_train, data_y_test = train_test_split(data[x_columns], data[y_column], test_size = 0.95, random_state = 15)"
   ]
  },
  {
   "cell_type": "code",
   "execution_count": 9,
   "metadata": {},
   "outputs": [
    {
     "data": {
      "text/plain": [
       "Attack             0\n",
       "Defense            0\n",
       "Special Attack     0\n",
       "Special Defense    0\n",
       "Speed              0\n",
       "Type_BUG           0\n",
       "Type_DARK          0\n",
       "Type_DRAGON        0\n",
       "Type_ELECTRIC      0\n",
       "Type_FAIRY         0\n",
       "Type_FIGHTING      0\n",
       "Type_FIRE          0\n",
       "Type_FLYING        0\n",
       "Type_GHOST         0\n",
       "Type_GRASS         0\n",
       "Type_GROUND        0\n",
       "Type_ICE           0\n",
       "Type_NORMAL        0\n",
       "Type_POISON        0\n",
       "Type_PSYCHIC       0\n",
       "Type_ROCK          0\n",
       "Type_STEEL         0\n",
       "Type_WATER         0\n",
       "HP                 0\n",
       "dtype: int64"
      ]
     },
     "execution_count": 9,
     "metadata": {},
     "output_type": "execute_result"
    }
   ],
   "source": [
    "data.isnull().sum()"
   ]
  },
  {
   "cell_type": "code",
   "execution_count": 10,
   "metadata": {},
   "outputs": [
    {
     "data": {
      "text/plain": [
       "Attack             int64\n",
       "Defense            int64\n",
       "Special Attack     int64\n",
       "Special Defense    int64\n",
       "Speed              int64\n",
       "Type_BUG           uint8\n",
       "Type_DARK          uint8\n",
       "Type_DRAGON        uint8\n",
       "Type_ELECTRIC      uint8\n",
       "Type_FAIRY         uint8\n",
       "Type_FIGHTING      uint8\n",
       "Type_FIRE          uint8\n",
       "Type_FLYING        uint8\n",
       "Type_GHOST         uint8\n",
       "Type_GRASS         uint8\n",
       "Type_GROUND        uint8\n",
       "Type_ICE           uint8\n",
       "Type_NORMAL        uint8\n",
       "Type_POISON        uint8\n",
       "Type_PSYCHIC       uint8\n",
       "Type_ROCK          uint8\n",
       "Type_STEEL         uint8\n",
       "Type_WATER         uint8\n",
       "HP                 int64\n",
       "dtype: object"
      ]
     },
     "execution_count": 10,
     "metadata": {},
     "output_type": "execute_result"
    }
   ],
   "source": [
    "data.dtypes"
   ]
  },
  {
   "cell_type": "markdown",
   "metadata": {},
   "source": [
    "## Бэггинг"
   ]
  },
  {
   "cell_type": "code",
   "execution_count": 11,
   "metadata": {},
   "outputs": [],
   "source": [
    "from sklearn.ensemble import BaggingClassifier, BaggingRegressor"
   ]
  },
  {
   "cell_type": "code",
   "execution_count": 12,
   "metadata": {},
   "outputs": [
    {
     "data": {
      "text/plain": [
       "BaggingRegressor(n_estimators=15, oob_score=True, random_state=10)"
      ]
     },
     "execution_count": 12,
     "metadata": {},
     "output_type": "execute_result"
    }
   ],
   "source": [
    "bagging = BaggingRegressor(n_estimators=15, oob_score=True, random_state=10)\n",
    "bagging.fit(data_x_train, data_y_train)"
   ]
  },
  {
   "cell_type": "code",
   "execution_count": 13,
   "metadata": {},
   "outputs": [],
   "source": [
    "bg_y_pred = bagging.predict(data_x_test)"
   ]
  },
  {
   "cell_type": "code",
   "execution_count": 14,
   "metadata": {},
   "outputs": [
    {
     "name": "stdout",
     "output_type": "stream",
     "text": [
      "Средняя абсолютная ошибка: 16.76726726726727\n",
      "Медианная абсолютная ошибка: 12.266666666666666\n",
      "Среднеквадратичная ошибка: 23.46983777714037\n",
      "Коэффициент детерминации: 0.07097848149618191\n"
     ]
    }
   ],
   "source": [
    "from sklearn.metrics import mean_absolute_error, mean_squared_error,  median_absolute_error, r2_score\n",
    "\n",
    "print('Средняя абсолютная ошибка:',   mean_absolute_error(data_y_test, bg_y_pred))\n",
    "print('Медианная абсолютная ошибка:',   median_absolute_error(data_y_test, bg_y_pred))\n",
    "print('Среднеквадратичная ошибка:',   mean_squared_error(data_y_test, bg_y_pred, squared = False))\n",
    "print('Коэффициент детерминации:',   r2_score(data_y_test, bg_y_pred))"
   ]
  },
  {
   "cell_type": "code",
   "execution_count": 15,
   "metadata": {},
   "outputs": [
    {
     "data": {
      "image/png": "[encoded data removed]",
      "text/plain": [
       "<Figure size 432x288 with 1 Axes>"
      ]
     },
     "metadata": {},
     "output_type": "display_data"
    }
   ],
   "source": [
    "plt.scatter(data_x_test.Attack, data_y_test,    marker = 's', label = 'Тестовая выборка')\n",
    "plt.scatter(data_x_test.Attack, bg_y_pred, marker = 'o', label = 'Предсказанные данные')\n",
    "plt.legend (loc = 'lower right')\n",
    "plt.xlabel ('Attack')\n",
    "plt.ylabel ('HP')\n",
    "plt.show()"
   ]
  },
  {
   "cell_type": "markdown",
   "metadata": {},
   "source": [
    "## Случайный лес"
   ]
  },
  {
   "cell_type": "code",
   "execution_count": 16,
   "metadata": {},
   "outputs": [
    {
     "data": {
      "text/plain": [
       "RandomForestRegressor(n_estimators=15, oob_score=True, random_state=10)"
      ]
     },
     "execution_count": 16,
     "metadata": {},
     "output_type": "execute_result"
    }
   ],
   "source": [
    "from sklearn.ensemble import RandomForestClassifier, RandomForestRegressor\n",
    "\n",
    "forest = RandomForestRegressor(n_estimators=15, oob_score=True, random_state=10)\n",
    "forest.fit(data_x_train, data_y_train)"
   ]
  },
  {
   "cell_type": "code",
   "execution_count": 17,
   "metadata": {},
   "outputs": [],
   "source": [
    "rf_y_pred = forest.predict(data_x_test)"
   ]
  },
  {
   "cell_type": "code",
   "execution_count": 18,
   "metadata": {},
   "outputs": [
    {
     "name": "stdout",
     "output_type": "stream",
     "text": [
      "Средняя абсолютная ошибка: 16.665765765765766\n",
      "Медианная абсолютная ошибка: 12.400000000000006\n",
      "Среднеквадратичная ошибка: 23.372059069434705\n",
      "Коэффициент детерминации: 0.07870323027520587\n"
     ]
    }
   ],
   "source": [
    "print('Средняя абсолютная ошибка:',   mean_absolute_error(data_y_test, rf_y_pred))\n",
    "print('Медианная абсолютная ошибка:',   median_absolute_error(data_y_test, rf_y_pred))\n",
    "print('Среднеквадратичная ошибка:',   mean_squared_error(data_y_test, rf_y_pred, squared = False))\n",
    "print('Коэффициент детерминации:',   r2_score(data_y_test, rf_y_pred))"
   ]
  },
  {
   "cell_type": "code",
   "execution_count": 19,
   "metadata": {},
   "outputs": [
    {
     "data": {
      "image/png": "[encoded data removed]",
      "text/plain": [
       "<Figure size 432x288 with 1 Axes>"
      ]
     },
     "metadata": {},
     "output_type": "display_data"
    }
   ],
   "source": [
    "plt.scatter(data_x_test.Attack, data_y_test,    marker = 's', label = 'Тестовая выборка')\n",
    "plt.scatter(data_x_test.Attack, rf_y_pred, marker = 'o', label = 'Предсказанные данные')\n",
    "plt.legend (loc = 'lower right')\n",
    "plt.xlabel ('Attack')\n",
    "plt.ylabel ('HP')\n",
    "plt.show()"
   ]
  },
  {
   "cell_type": "markdown",
   "metadata": {},
   "source": [
    "Результаты практически идентичны. Возможно потому что случайный лес как таковой это и есть бэггинг над решающими деревьями"
   ]
  },
  {
   "cell_type": "code",
   "execution_count": null,
   "metadata": {},
   "outputs": [],
   "source": []
  }
 ],
 "metadata": {
  "kernelspec": {
   "display_name": "Python 3",
   "language": "python",
   "name": "python3"
  },
  "language_info": {
   "codemirror_mode": {
    "name": "ipython",
    "version": 3
   },
   "file_extension": ".py",
   "mimetype": "text/x-python",
   "name": "python",
   "nbconvert_exporter": "python",
   "pygments_lexer": "ipython3",
   "version": "3.8.5"
  }
 },
 "nbformat": 4,
 "nbformat_minor": 4
}
